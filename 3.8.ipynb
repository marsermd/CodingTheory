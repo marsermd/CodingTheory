{
 "cells": [
  {
   "cell_type": "code",
   "execution_count": 13,
   "metadata": {},
   "outputs": [
    {
     "name": "stdout",
     "output_type": "stream",
     "text": [
      "n = 10, k = 5, d = 4\n",
      "[1, 2, 4, 7, 8, 11, 13, 14, 16, 19]\n",
      "[[0 0 0 0 0 0 0 0 1 1]\n",
      " [0 0 0 0 1 1 1 1 0 0]\n",
      " [0 0 1 1 0 0 1 1 0 0]\n",
      " [0 1 0 1 0 1 0 1 0 1]\n",
      " [1 0 0 1 0 1 1 0 0 1]]\n"
     ]
    }
   ],
   "source": [
    "import sys\n",
    "import numpy as np\n",
    "\n",
    "def remove_combinations(can_use_as_column, current, new_column, d):\n",
    "\tcolums_cnt = len(current)\n",
    "\tfor i in range(1, min(d - 2, colums_cnt + 1)):\n",
    "\t\tremove_combination(can_use_as_column, current, new_column, i, colums_cnt)\n",
    "\n",
    "def remove_combination(can_use_as_column, current, new_column, length, colums_cnt):\n",
    "\tcombinations = [-1] * length\n",
    "\tk = 0\n",
    "\twhile k >= 0:\n",
    "\t\tcombinations[k] += 1\n",
    "\t\tk += 1\n",
    "\t\twhile k < length:\n",
    "\t\t\tcombinations[k] = combinations[k - 1] + 1\n",
    "\t\t\tk += 1\n",
    "\n",
    "\t\tremove = new_column\n",
    "\t\tfor i in range(0, length):\n",
    "\t\t\tremove ^= current[combinations[i]]\n",
    "\t\tcan_use_as_column[remove] = False\n",
    "\n",
    "\t\tk = length - 1\n",
    "\t\twhile k >= 0 and combinations[k] >= colums_cnt - 1:\n",
    "\t\t\tcolums_cnt -= 1\n",
    "\t\t\tk -= 1\n",
    "\n",
    "def get_varhalamov_hilbert_boundary(n, k):\n",
    "\tlevel = 1 << (n - k)\n",
    "\n",
    "\td = 1\n",
    "\tcurrent = n\n",
    "\n",
    "\twhile level > current:\n",
    "\t\tdiff = n - 1\n",
    "\t\ti = min(n - d - 1, d)\n",
    "\t\twhile i > 1:\n",
    "\t\t\ti -= 1\n",
    "\t\t\tdiff *= (n - 1 - i) / i\n",
    "\t\tcurrent += diff\n",
    "\t\td += 1\n",
    "\treturn d + 1\n",
    "\n",
    "def get_code(n, k, d):\n",
    "\tr = n - k\n",
    "\tlength = 1 << r\n",
    "\tcan_use_as_column = [True] * length\n",
    "\tcan_use_as_column[0] = False\n",
    "\tcurrent = []\n",
    "\tremaining = n\n",
    "\ti = 1\n",
    "\twhile i < length and remaining > 0:\n",
    "\t\tcan_use_as_column[i] = False\n",
    "\t\tremove_combinations(can_use_as_column, current, i, d)\n",
    "\n",
    "\t\tcurrent.append(i)\n",
    "\t\tremaining -= 1\n",
    "\n",
    "\t\twhile i < length and not can_use_as_column[i]:\n",
    "\t\t\ti += 1\n",
    "\n",
    "\tif len(current) < n:\n",
    "\t\treturn False\n",
    "\treturn current\n",
    "\n",
    "n = 10\n",
    "k = 5\n",
    "d = get_varhalamov_hilbert_boundary(n, k)\n",
    "\n",
    "if d < 3:\n",
    "    print(\"Code is trivial\")\n",
    "    return\n",
    "\n",
    "code = get_code(n, k, d)\n",
    "\n",
    "if code is None:\n",
    "\tprint(f\"Couldn't generate code for n = {n}, k = {k}, d = {d}\")\n",
    "else:\n",
    "    print(f\"n = {n}, k = {k}, d = {d}\")\n",
    "    print(code)\n",
    "    G = list(map(lambda x: list(map(int, list(bin(x)[2:].zfill(n - k)))), code))\n",
    "    G = np.array(G)\n",
    "    G = G.T\n",
    "    print(G)\n"
   ]
  },
  {
   "cell_type": "markdown",
   "metadata": {},
   "source": [
    "Разумно использовать программу при n ~ 40, k ~20\n",
    "\n",
    "Ассимптотическая сложность O(n * d^2 * C_n^d) (худший случай)"
   ]
  },
  {
   "cell_type": "code",
   "execution_count": null,
   "metadata": {},
   "outputs": [],
   "source": []
  },
  {
   "cell_type": "code",
   "execution_count": null,
   "metadata": {},
   "outputs": [],
   "source": []
  },
  {
   "cell_type": "code",
   "execution_count": null,
   "metadata": {},
   "outputs": [],
   "source": []
  },
  {
   "cell_type": "code",
   "execution_count": null,
   "metadata": {},
   "outputs": [],
   "source": []
  }
 ],
 "metadata": {
  "kernelspec": {
   "display_name": "Python 3",
   "language": "python",
   "name": "python3"
  },
  "language_info": {
   "codemirror_mode": {
    "name": "ipython",
    "version": 3
   },
   "file_extension": ".py",
   "mimetype": "text/x-python",
   "name": "python",
   "nbconvert_exporter": "python",
   "pygments_lexer": "ipython3",
   "version": "3.6.6"
  }
 },
 "nbformat": 4,
 "nbformat_minor": 2
}
