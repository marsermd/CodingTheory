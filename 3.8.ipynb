{
 "cells": [
  {
   "cell_type": "code",
   "execution_count": 12,
   "metadata": {},
   "outputs": [
    {
     "name": "stdout",
     "output_type": "stream",
     "text": [
      "n = 10, k = 5, d = 4\n",
      "[1, 2, 4, 7, 8, 11, 13, 14, 16, 19]\n",
      "[[0 0 0 0 0 0 0 0 1 1]\n",
      " [0 0 0 0 1 1 1 1 0 0]\n",
      " [0 0 1 1 0 0 1 1 0 0]\n",
      " [0 1 0 1 0 1 0 1 0 1]\n",
      " [1 0 0 1 0 1 1 0 0 1]]\n"
     ]
    }
   ],
   "source": [
    "import sys\n",
    "import numpy as np\n",
    "\n",
    "def collect_combinations(isColumn, current, newItem, d):\n",
    "\tcurrentLength = len(current)\n",
    "\tfor i in range(1, min(d - 2, currentLength + 1)):\n",
    "\t\tcombination(isColumn, current, newItem, i, currentLength)\n",
    "\n",
    "def combination(isColumn, current, newItem, byNumber, currentLength):\n",
    "\tcombinations = [-1] * byNumber\n",
    "\tk = 0\n",
    "\twhile k >= 0:\n",
    "\t\tcombinations[k] += 1\n",
    "\t\tk += 1\n",
    "\t\twhile k < byNumber:\n",
    "\t\t\tcombinations[k] = combinations[k - 1] + 1\n",
    "\t\t\tk += 1\n",
    "\n",
    "\t\tremove = newItem\n",
    "\t\tfor i in range(0, byNumber):\n",
    "\t\t\tremove ^= current[combinations[i]]\n",
    "\t\tisColumn[remove] = False\n",
    "\n",
    "\t\tk = byNumber - 1\n",
    "\t\tmaxCurrentCol = currentLength - 1\n",
    "\t\twhile k >= 0 and combinations[k] >= maxCurrentCol:\n",
    "\t\t\tmaxCurrentCol -= 1\n",
    "\t\t\tk -= 1\n",
    "\n",
    "def get_varhalamov_hilbert_boundary(n, k):\n",
    "\tlevel = 1 << (n - k)\n",
    "\n",
    "\td = 1 # will add 2 before return\n",
    "\tcurrent = n\n",
    "\n",
    "\twhile level > current:\n",
    "\t\tdiff = n - 1\n",
    "\t\ti = min(n - d - 1, d)\n",
    "\t\twhile i > 1:\n",
    "\t\t\ti -= 1\n",
    "\t\t\t# calc combination numbers iteratively\n",
    "\t\t\tdiff *= (n - 1 - i) / i\n",
    "\t\tcurrent += diff\n",
    "\t\td += 1\n",
    "\treturn d + 1\n",
    "\n",
    "def calcCode(n, k, d):\n",
    "\tr = n - k\n",
    "\tlength = 1 << r\n",
    "\tisColumn = [True] * length\n",
    "\tisColumn[0] = False\n",
    "\tcurrent = []\n",
    "\tremaining = n\n",
    "\ti = 1\n",
    "\twhile i < length and remaining > 0:\n",
    "\t\tisColumn[i] = False\n",
    "\t\tcollect_combinations(isColumn, current, i, d)\n",
    "\n",
    "\t\tcurrent.append(i)\n",
    "\t\tremaining -= 1\n",
    "\n",
    "\t\twhile i < length and not isColumn[i]:\n",
    "\t\t\ti += 1\n",
    "\n",
    "\tif len(current) < n:\n",
    "\t\treturn False\n",
    "\treturn current\n",
    "\n",
    "n = 10\n",
    "k = 5\n",
    "d = get_varhalamov_hilbert_boundary(n, k)\n",
    "\n",
    "if d < 3:\n",
    "    print(\"Code is trivial\")\n",
    "    return\n",
    "\n",
    "code = calcCode(n, k, d)\n",
    "\n",
    "if not code:\n",
    "\tprint(f\"Couldn't generate code for n = {n}, k = {k}, d = {d}\")\n",
    "else:\n",
    "    print(f\"n = {n}, k = {k}, d = {d}\")\n",
    "    print(code)\n",
    "    G = list(map(lambda x: list(map(int, list(bin(x)[2:].zfill(n - k)))), code))\n",
    "    G = np.array(G)\n",
    "    G = G.T\n",
    "    print(G)\n"
   ]
  },
  {
   "cell_type": "markdown",
   "metadata": {},
   "source": [
    "Разумно использовать программу при n ~ 40, k ~20\n",
    "\n",
    "Ассимптотическая сложность O(n * d^2 * C_n^d) (худший случай)"
   ]
  },
  {
   "cell_type": "code",
   "execution_count": null,
   "metadata": {},
   "outputs": [],
   "source": []
  },
  {
   "cell_type": "code",
   "execution_count": null,
   "metadata": {},
   "outputs": [],
   "source": []
  },
  {
   "cell_type": "code",
   "execution_count": null,
   "metadata": {},
   "outputs": [],
   "source": []
  },
  {
   "cell_type": "code",
   "execution_count": null,
   "metadata": {},
   "outputs": [],
   "source": []
  }
 ],
 "metadata": {
  "kernelspec": {
   "display_name": "Python 3",
   "language": "python",
   "name": "python3"
  },
  "language_info": {
   "codemirror_mode": {
    "name": "ipython",
    "version": 3
   },
   "file_extension": ".py",
   "mimetype": "text/x-python",
   "name": "python",
   "nbconvert_exporter": "python",
   "pygments_lexer": "ipython3",
   "version": "3.6.6"
  }
 },
 "nbformat": 4,
 "nbformat_minor": 2
}
